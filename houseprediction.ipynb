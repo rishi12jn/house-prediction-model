{
  "metadata": {
    "kernelspec": {
      "name": "python",
      "display_name": "Python (Pyodide)",
      "language": "python"
    },
    "language_info": {
      "codemirror_mode": {
        "name": "python",
        "version": 3
      },
      "file_extension": ".py",
      "mimetype": "text/x-python",
      "name": "python",
      "nbconvert_exporter": "python",
      "pygments_lexer": "ipython3",
      "version": "3.8"
    }
  },
  "nbformat_minor": 4,
  "nbformat": 4,
  "cells": [
    {
      "cell_type": "code",
      "source": "import pandas as pd\nimport numpy as np\nfrom matplotlib import pyplot as plt\n%matplotlib inline\nimport matplotlib \nmatplotlib.rcParams[\"figure.figsize\"] = (20,10)",
      "metadata": {
        "trusted": true
      },
      "outputs": [],
      "execution_count": 1
    },
    {
      "cell_type": "code",
      "source": "df1 = pd.read_csv(\"Bengaluru_House_Data.csv\")\ndf1.head()",
      "metadata": {
        "trusted": true
      },
      "outputs": [
        {
          "execution_count": 2,
          "output_type": "execute_result",
          "data": {
            "text/plain": "              area_type   availability                  location       size  \\\n0  Super built-up  Area         19-Dec  Electronic City Phase II      2 BHK   \n1            Plot  Area  Ready To Move          Chikka Tirupathi  4 Bedroom   \n2        Built-up  Area  Ready To Move               Uttarahalli      3 BHK   \n3  Super built-up  Area  Ready To Move        Lingadheeranahalli      3 BHK   \n4  Super built-up  Area  Ready To Move                  Kothanur      2 BHK   \n\n   society total_sqft  bath  balcony   price  \n0  Coomee        1056   2.0      1.0   39.07  \n1  Theanmp       2600   5.0      3.0  120.00  \n2      NaN       1440   2.0      3.0   62.00  \n3  Soiewre       1521   3.0      1.0   95.00  \n4      NaN       1200   2.0      1.0   51.00  ",
            "text/html": "<div>\n<style scoped>\n    .dataframe tbody tr th:only-of-type {\n        vertical-align: middle;\n    }\n\n    .dataframe tbody tr th {\n        vertical-align: top;\n    }\n\n    .dataframe thead th {\n        text-align: right;\n    }\n</style>\n<table border=\"1\" class=\"dataframe\">\n  <thead>\n    <tr style=\"text-align: right;\">\n      <th></th>\n      <th>area_type</th>\n      <th>availability</th>\n      <th>location</th>\n      <th>size</th>\n      <th>society</th>\n      <th>total_sqft</th>\n      <th>bath</th>\n      <th>balcony</th>\n      <th>price</th>\n    </tr>\n  </thead>\n  <tbody>\n    <tr>\n      <th>0</th>\n      <td>Super built-up  Area</td>\n      <td>19-Dec</td>\n      <td>Electronic City Phase II</td>\n      <td>2 BHK</td>\n      <td>Coomee</td>\n      <td>1056</td>\n      <td>2.0</td>\n      <td>1.0</td>\n      <td>39.07</td>\n    </tr>\n    <tr>\n      <th>1</th>\n      <td>Plot  Area</td>\n      <td>Ready To Move</td>\n      <td>Chikka Tirupathi</td>\n      <td>4 Bedroom</td>\n      <td>Theanmp</td>\n      <td>2600</td>\n      <td>5.0</td>\n      <td>3.0</td>\n      <td>120.00</td>\n    </tr>\n    <tr>\n      <th>2</th>\n      <td>Built-up  Area</td>\n      <td>Ready To Move</td>\n      <td>Uttarahalli</td>\n      <td>3 BHK</td>\n      <td>NaN</td>\n      <td>1440</td>\n      <td>2.0</td>\n      <td>3.0</td>\n      <td>62.00</td>\n    </tr>\n    <tr>\n      <th>3</th>\n      <td>Super built-up  Area</td>\n      <td>Ready To Move</td>\n      <td>Lingadheeranahalli</td>\n      <td>3 BHK</td>\n      <td>Soiewre</td>\n      <td>1521</td>\n      <td>3.0</td>\n      <td>1.0</td>\n      <td>95.00</td>\n    </tr>\n    <tr>\n      <th>4</th>\n      <td>Super built-up  Area</td>\n      <td>Ready To Move</td>\n      <td>Kothanur</td>\n      <td>2 BHK</td>\n      <td>NaN</td>\n      <td>1200</td>\n      <td>2.0</td>\n      <td>1.0</td>\n      <td>51.00</td>\n    </tr>\n  </tbody>\n</table>\n</div>"
          },
          "metadata": {}
        }
      ],
      "execution_count": 2
    },
    {
      "cell_type": "code",
      "source": "df1.shape",
      "metadata": {
        "trusted": true
      },
      "outputs": [
        {
          "execution_count": 4,
          "output_type": "execute_result",
          "data": {
            "text/plain": "(13320, 9)"
          },
          "metadata": {}
        }
      ],
      "execution_count": 4
    },
    {
      "cell_type": "code",
      "source": "df1.groupby('area_type')['area_type'].agg('count')",
      "metadata": {
        "trusted": true
      },
      "outputs": [
        {
          "execution_count": 5,
          "output_type": "execute_result",
          "data": {
            "text/plain": "area_type\nBuilt-up  Area          2418\nCarpet  Area              87\nPlot  Area              2025\nSuper built-up  Area    8790\nName: area_type, dtype: int64"
          },
          "metadata": {}
        }
      ],
      "execution_count": 5
    },
    {
      "cell_type": "code",
      "source": "df2=df1.drop(['area_type','society','balcony','availability'],axis='columns')\ndf2.head()",
      "metadata": {
        "trusted": true
      },
      "outputs": [
        {
          "execution_count": 11,
          "output_type": "execute_result",
          "data": {
            "text/plain": "                   location       size total_sqft  bath   price\n0  Electronic City Phase II      2 BHK       1056   2.0   39.07\n1          Chikka Tirupathi  4 Bedroom       2600   5.0  120.00\n2               Uttarahalli      3 BHK       1440   2.0   62.00\n3        Lingadheeranahalli      3 BHK       1521   3.0   95.00\n4                  Kothanur      2 BHK       1200   2.0   51.00",
            "text/html": "<div>\n<style scoped>\n    .dataframe tbody tr th:only-of-type {\n        vertical-align: middle;\n    }\n\n    .dataframe tbody tr th {\n        vertical-align: top;\n    }\n\n    .dataframe thead th {\n        text-align: right;\n    }\n</style>\n<table border=\"1\" class=\"dataframe\">\n  <thead>\n    <tr style=\"text-align: right;\">\n      <th></th>\n      <th>location</th>\n      <th>size</th>\n      <th>total_sqft</th>\n      <th>bath</th>\n      <th>price</th>\n    </tr>\n  </thead>\n  <tbody>\n    <tr>\n      <th>0</th>\n      <td>Electronic City Phase II</td>\n      <td>2 BHK</td>\n      <td>1056</td>\n      <td>2.0</td>\n      <td>39.07</td>\n    </tr>\n    <tr>\n      <th>1</th>\n      <td>Chikka Tirupathi</td>\n      <td>4 Bedroom</td>\n      <td>2600</td>\n      <td>5.0</td>\n      <td>120.00</td>\n    </tr>\n    <tr>\n      <th>2</th>\n      <td>Uttarahalli</td>\n      <td>3 BHK</td>\n      <td>1440</td>\n      <td>2.0</td>\n      <td>62.00</td>\n    </tr>\n    <tr>\n      <th>3</th>\n      <td>Lingadheeranahalli</td>\n      <td>3 BHK</td>\n      <td>1521</td>\n      <td>3.0</td>\n      <td>95.00</td>\n    </tr>\n    <tr>\n      <th>4</th>\n      <td>Kothanur</td>\n      <td>2 BHK</td>\n      <td>1200</td>\n      <td>2.0</td>\n      <td>51.00</td>\n    </tr>\n  </tbody>\n</table>\n</div>"
          },
          "metadata": {}
        }
      ],
      "execution_count": 11
    },
    {
      "cell_type": "code",
      "source": "df2.isnull().sum()",
      "metadata": {
        "trusted": true
      },
      "outputs": [
        {
          "execution_count": 12,
          "output_type": "execute_result",
          "data": {
            "text/plain": "location       1\nsize          16\ntotal_sqft     0\nbath          73\nprice          0\ndtype: int64"
          },
          "metadata": {}
        }
      ],
      "execution_count": 12
    },
    {
      "cell_type": "code",
      "source": " df3=df2.dropna()\ndf3.isnull().sum()",
      "metadata": {
        "trusted": true
      },
      "outputs": [
        {
          "execution_count": 13,
          "output_type": "execute_result",
          "data": {
            "text/plain": "location      0\nsize          0\ntotal_sqft    0\nbath          0\nprice         0\ndtype: int64"
          },
          "metadata": {}
        }
      ],
      "execution_count": 13
    },
    {
      "cell_type": "code",
      "source": "df3.shape",
      "metadata": {
        "trusted": true
      },
      "outputs": [
        {
          "execution_count": 14,
          "output_type": "execute_result",
          "data": {
            "text/plain": "(13246, 5)"
          },
          "metadata": {}
        }
      ],
      "execution_count": 14
    },
    {
      "cell_type": "code",
      "source": "df3['size'].unique()",
      "metadata": {
        "trusted": true
      },
      "outputs": [
        {
          "execution_count": 15,
          "output_type": "execute_result",
          "data": {
            "text/plain": "array(['2 BHK', '4 Bedroom', '3 BHK', '4 BHK', '6 Bedroom', '3 Bedroom',\n       '1 BHK', '1 RK', '1 Bedroom', '8 Bedroom', '2 Bedroom',\n       '7 Bedroom', '5 BHK', '7 BHK', '6 BHK', '5 Bedroom', '11 BHK',\n       '9 BHK', '9 Bedroom', '27 BHK', '10 Bedroom', '11 Bedroom',\n       '10 BHK', '19 BHK', '16 BHK', '43 Bedroom', '14 BHK', '8 BHK',\n       '12 Bedroom', '13 BHK', '18 Bedroom'], dtype=object)"
          },
          "metadata": {}
        }
      ],
      "execution_count": 15
    },
    {
      "cell_type": "code",
      "source": "df3['bhk']=df3['size'].apply(lambda x:int(x.split(' ')[0]))\n",
      "metadata": {
        "trusted": true
      },
      "outputs": [
        {
          "name": "stderr",
          "text": "<ipython-input-16-164e2bb702c4>:1: SettingWithCopyWarning: \nA value is trying to be set on a copy of a slice from a DataFrame.\nTry using .loc[row_indexer,col_indexer] = value instead\n\nSee the caveats in the documentation: https://pandas.pydata.org/pandas-docs/stable/user_guide/indexing.html#returning-a-view-versus-a-copy\n  df3['bhk']=df3['size'].apply(lambda x:int(x.split(' ')[0]))\n",
          "output_type": "stream"
        }
      ],
      "execution_count": 16
    },
    {
      "cell_type": "code",
      "source": "df3.head()",
      "metadata": {
        "trusted": true
      },
      "outputs": [
        {
          "execution_count": 17,
          "output_type": "execute_result",
          "data": {
            "text/plain": "                   location       size total_sqft  bath   price  bhk\n0  Electronic City Phase II      2 BHK       1056   2.0   39.07    2\n1          Chikka Tirupathi  4 Bedroom       2600   5.0  120.00    4\n2               Uttarahalli      3 BHK       1440   2.0   62.00    3\n3        Lingadheeranahalli      3 BHK       1521   3.0   95.00    3\n4                  Kothanur      2 BHK       1200   2.0   51.00    2",
            "text/html": "<div>\n<style scoped>\n    .dataframe tbody tr th:only-of-type {\n        vertical-align: middle;\n    }\n\n    .dataframe tbody tr th {\n        vertical-align: top;\n    }\n\n    .dataframe thead th {\n        text-align: right;\n    }\n</style>\n<table border=\"1\" class=\"dataframe\">\n  <thead>\n    <tr style=\"text-align: right;\">\n      <th></th>\n      <th>location</th>\n      <th>size</th>\n      <th>total_sqft</th>\n      <th>bath</th>\n      <th>price</th>\n      <th>bhk</th>\n    </tr>\n  </thead>\n  <tbody>\n    <tr>\n      <th>0</th>\n      <td>Electronic City Phase II</td>\n      <td>2 BHK</td>\n      <td>1056</td>\n      <td>2.0</td>\n      <td>39.07</td>\n      <td>2</td>\n    </tr>\n    <tr>\n      <th>1</th>\n      <td>Chikka Tirupathi</td>\n      <td>4 Bedroom</td>\n      <td>2600</td>\n      <td>5.0</td>\n      <td>120.00</td>\n      <td>4</td>\n    </tr>\n    <tr>\n      <th>2</th>\n      <td>Uttarahalli</td>\n      <td>3 BHK</td>\n      <td>1440</td>\n      <td>2.0</td>\n      <td>62.00</td>\n      <td>3</td>\n    </tr>\n    <tr>\n      <th>3</th>\n      <td>Lingadheeranahalli</td>\n      <td>3 BHK</td>\n      <td>1521</td>\n      <td>3.0</td>\n      <td>95.00</td>\n      <td>3</td>\n    </tr>\n    <tr>\n      <th>4</th>\n      <td>Kothanur</td>\n      <td>2 BHK</td>\n      <td>1200</td>\n      <td>2.0</td>\n      <td>51.00</td>\n      <td>2</td>\n    </tr>\n  </tbody>\n</table>\n</div>"
          },
          "metadata": {}
        }
      ],
      "execution_count": 17
    },
    {
      "cell_type": "code",
      "source": "df3['bhk'].unique()",
      "metadata": {
        "trusted": true
      },
      "outputs": [
        {
          "execution_count": 18,
          "output_type": "execute_result",
          "data": {
            "text/plain": "array([ 2,  4,  3,  6,  1,  8,  7,  5, 11,  9, 27, 10, 19, 16, 43, 14, 12,\n       13, 18], dtype=int64)"
          },
          "metadata": {}
        }
      ],
      "execution_count": 18
    },
    {
      "cell_type": "code",
      "source": "df3[df3.bhk>20]",
      "metadata": {
        "trusted": true
      },
      "outputs": [
        {
          "execution_count": 19,
          "output_type": "execute_result",
          "data": {
            "text/plain": "                       location        size total_sqft  bath  price  bhk\n1718  2Electronic City Phase II      27 BHK       8000  27.0  230.0   27\n4684                Munnekollal  43 Bedroom       2400  40.0  660.0   43",
            "text/html": "<div>\n<style scoped>\n    .dataframe tbody tr th:only-of-type {\n        vertical-align: middle;\n    }\n\n    .dataframe tbody tr th {\n        vertical-align: top;\n    }\n\n    .dataframe thead th {\n        text-align: right;\n    }\n</style>\n<table border=\"1\" class=\"dataframe\">\n  <thead>\n    <tr style=\"text-align: right;\">\n      <th></th>\n      <th>location</th>\n      <th>size</th>\n      <th>total_sqft</th>\n      <th>bath</th>\n      <th>price</th>\n      <th>bhk</th>\n    </tr>\n  </thead>\n  <tbody>\n    <tr>\n      <th>1718</th>\n      <td>2Electronic City Phase II</td>\n      <td>27 BHK</td>\n      <td>8000</td>\n      <td>27.0</td>\n      <td>230.0</td>\n      <td>27</td>\n    </tr>\n    <tr>\n      <th>4684</th>\n      <td>Munnekollal</td>\n      <td>43 Bedroom</td>\n      <td>2400</td>\n      <td>40.0</td>\n      <td>660.0</td>\n      <td>43</td>\n    </tr>\n  </tbody>\n</table>\n</div>"
          },
          "metadata": {}
        }
      ],
      "execution_count": 19
    },
    {
      "cell_type": "code",
      "source": "df3.total_sqft.unique()",
      "metadata": {
        "trusted": true
      },
      "outputs": [
        {
          "execution_count": 20,
          "output_type": "execute_result",
          "data": {
            "text/plain": "array(['1056', '2600', '1440', ..., '1133 - 1384', '774', '4689'],\n      dtype=object)"
          },
          "metadata": {}
        }
      ],
      "execution_count": 20
    },
    {
      "cell_type": "code",
      "source": "def is_float(x):\n    try:\n        float(x)\n    except:\n        return False\n    return True",
      "metadata": {
        "trusted": true
      },
      "outputs": [],
      "execution_count": 21
    },
    {
      "cell_type": "code",
      "source": "df3[~df3['total_sqft'].apply(is_float)].head(10)",
      "metadata": {
        "trusted": true
      },
      "outputs": [
        {
          "execution_count": 25,
          "output_type": "execute_result",
          "data": {
            "text/plain": "               location       size      total_sqft  bath    price  bhk\n30            Yelahanka      4 BHK     2100 - 2850   4.0  186.000    4\n122              Hebbal      4 BHK     3067 - 8156   4.0  477.000    4\n137  8th Phase JP Nagar      2 BHK     1042 - 1105   2.0   54.005    2\n165            Sarjapur      2 BHK     1145 - 1340   2.0   43.490    2\n188            KR Puram      2 BHK     1015 - 1540   2.0   56.800    2\n410             Kengeri      1 BHK  34.46Sq. Meter   1.0   18.500    1\n549         Hennur Road      2 BHK     1195 - 1440   2.0   63.770    2\n648             Arekere  9 Bedroom       4125Perch   9.0  265.000    9\n661           Yelahanka      2 BHK     1120 - 1145   2.0   48.130    2\n672        Bettahalsoor  4 Bedroom     3090 - 5002   4.0  445.000    4",
            "text/html": "<div>\n<style scoped>\n    .dataframe tbody tr th:only-of-type {\n        vertical-align: middle;\n    }\n\n    .dataframe tbody tr th {\n        vertical-align: top;\n    }\n\n    .dataframe thead th {\n        text-align: right;\n    }\n</style>\n<table border=\"1\" class=\"dataframe\">\n  <thead>\n    <tr style=\"text-align: right;\">\n      <th></th>\n      <th>location</th>\n      <th>size</th>\n      <th>total_sqft</th>\n      <th>bath</th>\n      <th>price</th>\n      <th>bhk</th>\n    </tr>\n  </thead>\n  <tbody>\n    <tr>\n      <th>30</th>\n      <td>Yelahanka</td>\n      <td>4 BHK</td>\n      <td>2100 - 2850</td>\n      <td>4.0</td>\n      <td>186.000</td>\n      <td>4</td>\n    </tr>\n    <tr>\n      <th>122</th>\n      <td>Hebbal</td>\n      <td>4 BHK</td>\n      <td>3067 - 8156</td>\n      <td>4.0</td>\n      <td>477.000</td>\n      <td>4</td>\n    </tr>\n    <tr>\n      <th>137</th>\n      <td>8th Phase JP Nagar</td>\n      <td>2 BHK</td>\n      <td>1042 - 1105</td>\n      <td>2.0</td>\n      <td>54.005</td>\n      <td>2</td>\n    </tr>\n    <tr>\n      <th>165</th>\n      <td>Sarjapur</td>\n      <td>2 BHK</td>\n      <td>1145 - 1340</td>\n      <td>2.0</td>\n      <td>43.490</td>\n      <td>2</td>\n    </tr>\n    <tr>\n      <th>188</th>\n      <td>KR Puram</td>\n      <td>2 BHK</td>\n      <td>1015 - 1540</td>\n      <td>2.0</td>\n      <td>56.800</td>\n      <td>2</td>\n    </tr>\n    <tr>\n      <th>410</th>\n      <td>Kengeri</td>\n      <td>1 BHK</td>\n      <td>34.46Sq. Meter</td>\n      <td>1.0</td>\n      <td>18.500</td>\n      <td>1</td>\n    </tr>\n    <tr>\n      <th>549</th>\n      <td>Hennur Road</td>\n      <td>2 BHK</td>\n      <td>1195 - 1440</td>\n      <td>2.0</td>\n      <td>63.770</td>\n      <td>2</td>\n    </tr>\n    <tr>\n      <th>648</th>\n      <td>Arekere</td>\n      <td>9 Bedroom</td>\n      <td>4125Perch</td>\n      <td>9.0</td>\n      <td>265.000</td>\n      <td>9</td>\n    </tr>\n    <tr>\n      <th>661</th>\n      <td>Yelahanka</td>\n      <td>2 BHK</td>\n      <td>1120 - 1145</td>\n      <td>2.0</td>\n      <td>48.130</td>\n      <td>2</td>\n    </tr>\n    <tr>\n      <th>672</th>\n      <td>Bettahalsoor</td>\n      <td>4 Bedroom</td>\n      <td>3090 - 5002</td>\n      <td>4.0</td>\n      <td>445.000</td>\n      <td>4</td>\n    </tr>\n  </tbody>\n</table>\n</div>"
          },
          "metadata": {}
        }
      ],
      "execution_count": 25
    },
    {
      "cell_type": "code",
      "source": "def convert_sqft_to_num(x):\n    tokens=x.split('-')\n    if len(tokens)==2:\n        return(float(tokens[0])+float(tokens[1]))/2\n    try:\n        return float(x)\n    except:\n         return None",
      "metadata": {
        "trusted": true
      },
      "outputs": [],
      "execution_count": 33
    },
    {
      "cell_type": "code",
      "source": "convert_sqft_to_num('2166')",
      "metadata": {
        "trusted": true
      },
      "outputs": [
        {
          "execution_count": 34,
          "output_type": "execute_result",
          "data": {
            "text/plain": "2166.0"
          },
          "metadata": {}
        }
      ],
      "execution_count": 34
    },
    {
      "cell_type": "code",
      "source": "convert_sqft_to_num('2100 - 2850')",
      "metadata": {
        "trusted": true
      },
      "outputs": [
        {
          "execution_count": 35,
          "output_type": "execute_result",
          "data": {
            "text/plain": "2475.0"
          },
          "metadata": {}
        }
      ],
      "execution_count": 35
    },
    {
      "cell_type": "code",
      "source": "df4=df3.copy()\ndf4['total_sqft']=df4['total_sqft'].apply(convert_sqft_to_num)\ndf4.head(3)",
      "metadata": {
        "trusted": true
      },
      "outputs": [
        {
          "execution_count": 36,
          "output_type": "execute_result",
          "data": {
            "text/plain": "                   location       size  total_sqft  bath   price  bhk\n0  Electronic City Phase II      2 BHK      1056.0   2.0   39.07    2\n1          Chikka Tirupathi  4 Bedroom      2600.0   5.0  120.00    4\n2               Uttarahalli      3 BHK      1440.0   2.0   62.00    3",
            "text/html": "<div>\n<style scoped>\n    .dataframe tbody tr th:only-of-type {\n        vertical-align: middle;\n    }\n\n    .dataframe tbody tr th {\n        vertical-align: top;\n    }\n\n    .dataframe thead th {\n        text-align: right;\n    }\n</style>\n<table border=\"1\" class=\"dataframe\">\n  <thead>\n    <tr style=\"text-align: right;\">\n      <th></th>\n      <th>location</th>\n      <th>size</th>\n      <th>total_sqft</th>\n      <th>bath</th>\n      <th>price</th>\n      <th>bhk</th>\n    </tr>\n  </thead>\n  <tbody>\n    <tr>\n      <th>0</th>\n      <td>Electronic City Phase II</td>\n      <td>2 BHK</td>\n      <td>1056.0</td>\n      <td>2.0</td>\n      <td>39.07</td>\n      <td>2</td>\n    </tr>\n    <tr>\n      <th>1</th>\n      <td>Chikka Tirupathi</td>\n      <td>4 Bedroom</td>\n      <td>2600.0</td>\n      <td>5.0</td>\n      <td>120.00</td>\n      <td>4</td>\n    </tr>\n    <tr>\n      <th>2</th>\n      <td>Uttarahalli</td>\n      <td>3 BHK</td>\n      <td>1440.0</td>\n      <td>2.0</td>\n      <td>62.00</td>\n      <td>3</td>\n    </tr>\n  </tbody>\n</table>\n</div>"
          },
          "metadata": {}
        }
      ],
      "execution_count": 36
    },
    {
      "cell_type": "code",
      "source": "df4.loc[30]",
      "metadata": {
        "trusted": true
      },
      "outputs": [
        {
          "execution_count": 38,
          "output_type": "execute_result",
          "data": {
            "text/plain": "location      Yelahanka\nsize              4 BHK\ntotal_sqft       2475.0\nbath                4.0\nprice             186.0\nbhk                   4\nName: 30, dtype: object"
          },
          "metadata": {}
        }
      ],
      "execution_count": 38
    },
    {
      "cell_type": "code",
      "source": "df4.head(3)",
      "metadata": {
        "trusted": true
      },
      "outputs": [
        {
          "execution_count": 39,
          "output_type": "execute_result",
          "data": {
            "text/plain": "                   location       size  total_sqft  bath   price  bhk\n0  Electronic City Phase II      2 BHK      1056.0   2.0   39.07    2\n1          Chikka Tirupathi  4 Bedroom      2600.0   5.0  120.00    4\n2               Uttarahalli      3 BHK      1440.0   2.0   62.00    3",
            "text/html": "<div>\n<style scoped>\n    .dataframe tbody tr th:only-of-type {\n        vertical-align: middle;\n    }\n\n    .dataframe tbody tr th {\n        vertical-align: top;\n    }\n\n    .dataframe thead th {\n        text-align: right;\n    }\n</style>\n<table border=\"1\" class=\"dataframe\">\n  <thead>\n    <tr style=\"text-align: right;\">\n      <th></th>\n      <th>location</th>\n      <th>size</th>\n      <th>total_sqft</th>\n      <th>bath</th>\n      <th>price</th>\n      <th>bhk</th>\n    </tr>\n  </thead>\n  <tbody>\n    <tr>\n      <th>0</th>\n      <td>Electronic City Phase II</td>\n      <td>2 BHK</td>\n      <td>1056.0</td>\n      <td>2.0</td>\n      <td>39.07</td>\n      <td>2</td>\n    </tr>\n    <tr>\n      <th>1</th>\n      <td>Chikka Tirupathi</td>\n      <td>4 Bedroom</td>\n      <td>2600.0</td>\n      <td>5.0</td>\n      <td>120.00</td>\n      <td>4</td>\n    </tr>\n    <tr>\n      <th>2</th>\n      <td>Uttarahalli</td>\n      <td>3 BHK</td>\n      <td>1440.0</td>\n      <td>2.0</td>\n      <td>62.00</td>\n      <td>3</td>\n    </tr>\n  </tbody>\n</table>\n</div>"
          },
          "metadata": {}
        }
      ],
      "execution_count": 39
    },
    {
      "cell_type": "code",
      "source": "df5=df4.copy()\ndf5['price_per_sqft']=df5['price']*100000/df5['total_sqft']\ndf5.head()",
      "metadata": {
        "trusted": true
      },
      "outputs": [
        {
          "execution_count": 41,
          "output_type": "execute_result",
          "data": {
            "text/plain": "                   location       size  total_sqft  bath   price  bhk  \\\n0  Electronic City Phase II      2 BHK      1056.0   2.0   39.07    2   \n1          Chikka Tirupathi  4 Bedroom      2600.0   5.0  120.00    4   \n2               Uttarahalli      3 BHK      1440.0   2.0   62.00    3   \n3        Lingadheeranahalli      3 BHK      1521.0   3.0   95.00    3   \n4                  Kothanur      2 BHK      1200.0   2.0   51.00    2   \n\n   price_per_sqft  \n0     3699.810606  \n1     4615.384615  \n2     4305.555556  \n3     6245.890861  \n4     4250.000000  ",
            "text/html": "<div>\n<style scoped>\n    .dataframe tbody tr th:only-of-type {\n        vertical-align: middle;\n    }\n\n    .dataframe tbody tr th {\n        vertical-align: top;\n    }\n\n    .dataframe thead th {\n        text-align: right;\n    }\n</style>\n<table border=\"1\" class=\"dataframe\">\n  <thead>\n    <tr style=\"text-align: right;\">\n      <th></th>\n      <th>location</th>\n      <th>size</th>\n      <th>total_sqft</th>\n      <th>bath</th>\n      <th>price</th>\n      <th>bhk</th>\n      <th>price_per_sqft</th>\n    </tr>\n  </thead>\n  <tbody>\n    <tr>\n      <th>0</th>\n      <td>Electronic City Phase II</td>\n      <td>2 BHK</td>\n      <td>1056.0</td>\n      <td>2.0</td>\n      <td>39.07</td>\n      <td>2</td>\n      <td>3699.810606</td>\n    </tr>\n    <tr>\n      <th>1</th>\n      <td>Chikka Tirupathi</td>\n      <td>4 Bedroom</td>\n      <td>2600.0</td>\n      <td>5.0</td>\n      <td>120.00</td>\n      <td>4</td>\n      <td>4615.384615</td>\n    </tr>\n    <tr>\n      <th>2</th>\n      <td>Uttarahalli</td>\n      <td>3 BHK</td>\n      <td>1440.0</td>\n      <td>2.0</td>\n      <td>62.00</td>\n      <td>3</td>\n      <td>4305.555556</td>\n    </tr>\n    <tr>\n      <th>3</th>\n      <td>Lingadheeranahalli</td>\n      <td>3 BHK</td>\n      <td>1521.0</td>\n      <td>3.0</td>\n      <td>95.00</td>\n      <td>3</td>\n      <td>6245.890861</td>\n    </tr>\n    <tr>\n      <th>4</th>\n      <td>Kothanur</td>\n      <td>2 BHK</td>\n      <td>1200.0</td>\n      <td>2.0</td>\n      <td>51.00</td>\n      <td>2</td>\n      <td>4250.000000</td>\n    </tr>\n  </tbody>\n</table>\n</div>"
          },
          "metadata": {}
        }
      ],
      "execution_count": 41
    },
    {
      "cell_type": "code",
      "source": "len(df5.location.unique())",
      "metadata": {
        "trusted": true
      },
      "outputs": [
        {
          "execution_count": 42,
          "output_type": "execute_result",
          "data": {
            "text/plain": "1304"
          },
          "metadata": {}
        }
      ],
      "execution_count": 42
    },
    {
      "cell_type": "code",
      "source": "df5.location=df5.location.apply(lambda x:x.strip())\n\nlocation_stats=df5.groupby('location')['location'].agg('count').sort_values(ascending=False)\nlocation_stats\n\n                           ",
      "metadata": {
        "trusted": true
      },
      "outputs": [
        {
          "execution_count": 45,
          "output_type": "execute_result",
          "data": {
            "text/plain": "location\nWhitefield               535\nSarjapur  Road           392\nElectronic City          304\nKanakpura Road           266\nThanisandra              236\n                        ... \n1 Giri Nagar               1\nKanakapura Road,           1\nKanakapura main  Road      1\nKarnataka Shabarimala      1\nwhitefiled                 1\nName: location, Length: 1293, dtype: int64"
          },
          "metadata": {}
        }
      ],
      "execution_count": 45
    },
    {
      "cell_type": "code",
      "source": "len(location_stats[location_stats<=10])",
      "metadata": {
        "trusted": true
      },
      "outputs": [
        {
          "execution_count": 46,
          "output_type": "execute_result",
          "data": {
            "text/plain": "1052"
          },
          "metadata": {}
        }
      ],
      "execution_count": 46
    },
    {
      "cell_type": "code",
      "source": "location_stats_less_than_10 = location_stats[location_stats<=10]\nlocation_stats_less_than_10",
      "metadata": {
        "trusted": true
      },
      "outputs": [
        {
          "execution_count": 49,
          "output_type": "execute_result",
          "data": {
            "text/plain": "location\nBasapura                 10\n1st Block Koramangala    10\nGunjur Palya             10\nKalkere                  10\nSector 1 HSR Layout      10\n                         ..\n1 Giri Nagar              1\nKanakapura Road,          1\nKanakapura main  Road     1\nKarnataka Shabarimala     1\nwhitefiled                1\nName: location, Length: 1052, dtype: int64"
          },
          "metadata": {}
        }
      ],
      "execution_count": 49
    },
    {
      "cell_type": "code",
      "source": "len(df5.location.unique())",
      "metadata": {
        "trusted": true
      },
      "outputs": [
        {
          "execution_count": 50,
          "output_type": "execute_result",
          "data": {
            "text/plain": "1293"
          },
          "metadata": {}
        }
      ],
      "execution_count": 50
    },
    {
      "cell_type": "code",
      "source": "df5.location=df5.location.apply(lambda x:'other' if x in location_stats_less_than_10 else x)\nlen(df5.location.unique())",
      "metadata": {
        "trusted": true
      },
      "outputs": [
        {
          "execution_count": 51,
          "output_type": "execute_result",
          "data": {
            "text/plain": "242"
          },
          "metadata": {}
        }
      ],
      "execution_count": 51
    },
    {
      "cell_type": "code",
      "source": "df5.head(10)",
      "metadata": {
        "trusted": true
      },
      "outputs": [
        {
          "execution_count": 53,
          "output_type": "execute_result",
          "data": {
            "text/plain": "                   location       size  total_sqft  bath   price  bhk  \\\n0  Electronic City Phase II      2 BHK      1056.0   2.0   39.07    2   \n1          Chikka Tirupathi  4 Bedroom      2600.0   5.0  120.00    4   \n2               Uttarahalli      3 BHK      1440.0   2.0   62.00    3   \n3        Lingadheeranahalli      3 BHK      1521.0   3.0   95.00    3   \n4                  Kothanur      2 BHK      1200.0   2.0   51.00    2   \n5                Whitefield      2 BHK      1170.0   2.0   38.00    2   \n6          Old Airport Road      4 BHK      2732.0   4.0  204.00    4   \n7              Rajaji Nagar      4 BHK      3300.0   4.0  600.00    4   \n8              Marathahalli      3 BHK      1310.0   3.0   63.25    3   \n9                     other  6 Bedroom      1020.0   6.0  370.00    6   \n\n   price_per_sqft  \n0     3699.810606  \n1     4615.384615  \n2     4305.555556  \n3     6245.890861  \n4     4250.000000  \n5     3247.863248  \n6     7467.057101  \n7    18181.818182  \n8     4828.244275  \n9    36274.509804  ",
            "text/html": "<div>\n<style scoped>\n    .dataframe tbody tr th:only-of-type {\n        vertical-align: middle;\n    }\n\n    .dataframe tbody tr th {\n        vertical-align: top;\n    }\n\n    .dataframe thead th {\n        text-align: right;\n    }\n</style>\n<table border=\"1\" class=\"dataframe\">\n  <thead>\n    <tr style=\"text-align: right;\">\n      <th></th>\n      <th>location</th>\n      <th>size</th>\n      <th>total_sqft</th>\n      <th>bath</th>\n      <th>price</th>\n      <th>bhk</th>\n      <th>price_per_sqft</th>\n    </tr>\n  </thead>\n  <tbody>\n    <tr>\n      <th>0</th>\n      <td>Electronic City Phase II</td>\n      <td>2 BHK</td>\n      <td>1056.0</td>\n      <td>2.0</td>\n      <td>39.07</td>\n      <td>2</td>\n      <td>3699.810606</td>\n    </tr>\n    <tr>\n      <th>1</th>\n      <td>Chikka Tirupathi</td>\n      <td>4 Bedroom</td>\n      <td>2600.0</td>\n      <td>5.0</td>\n      <td>120.00</td>\n      <td>4</td>\n      <td>4615.384615</td>\n    </tr>\n    <tr>\n      <th>2</th>\n      <td>Uttarahalli</td>\n      <td>3 BHK</td>\n      <td>1440.0</td>\n      <td>2.0</td>\n      <td>62.00</td>\n      <td>3</td>\n      <td>4305.555556</td>\n    </tr>\n    <tr>\n      <th>3</th>\n      <td>Lingadheeranahalli</td>\n      <td>3 BHK</td>\n      <td>1521.0</td>\n      <td>3.0</td>\n      <td>95.00</td>\n      <td>3</td>\n      <td>6245.890861</td>\n    </tr>\n    <tr>\n      <th>4</th>\n      <td>Kothanur</td>\n      <td>2 BHK</td>\n      <td>1200.0</td>\n      <td>2.0</td>\n      <td>51.00</td>\n      <td>2</td>\n      <td>4250.000000</td>\n    </tr>\n    <tr>\n      <th>5</th>\n      <td>Whitefield</td>\n      <td>2 BHK</td>\n      <td>1170.0</td>\n      <td>2.0</td>\n      <td>38.00</td>\n      <td>2</td>\n      <td>3247.863248</td>\n    </tr>\n    <tr>\n      <th>6</th>\n      <td>Old Airport Road</td>\n      <td>4 BHK</td>\n      <td>2732.0</td>\n      <td>4.0</td>\n      <td>204.00</td>\n      <td>4</td>\n      <td>7467.057101</td>\n    </tr>\n    <tr>\n      <th>7</th>\n      <td>Rajaji Nagar</td>\n      <td>4 BHK</td>\n      <td>3300.0</td>\n      <td>4.0</td>\n      <td>600.00</td>\n      <td>4</td>\n      <td>18181.818182</td>\n    </tr>\n    <tr>\n      <th>8</th>\n      <td>Marathahalli</td>\n      <td>3 BHK</td>\n      <td>1310.0</td>\n      <td>3.0</td>\n      <td>63.25</td>\n      <td>3</td>\n      <td>4828.244275</td>\n    </tr>\n    <tr>\n      <th>9</th>\n      <td>other</td>\n      <td>6 Bedroom</td>\n      <td>1020.0</td>\n      <td>6.0</td>\n      <td>370.00</td>\n      <td>6</td>\n      <td>36274.509804</td>\n    </tr>\n  </tbody>\n</table>\n</div>"
          },
          "metadata": {}
        }
      ],
      "execution_count": 53
    },
    {
      "cell_type": "code",
      "source": "df5[df5.total_sqft/df5.bhk<300].head()",
      "metadata": {
        "trusted": true
      },
      "outputs": [
        {
          "execution_count": 54,
          "output_type": "execute_result",
          "data": {
            "text/plain": "               location       size  total_sqft  bath  price  bhk  \\\n9                 other  6 Bedroom      1020.0   6.0  370.0    6   \n45           HSR Layout  8 Bedroom       600.0   9.0  200.0    8   \n58        Murugeshpalya  6 Bedroom      1407.0   4.0  150.0    6   \n68  Devarachikkanahalli  8 Bedroom      1350.0   7.0   85.0    8   \n70                other  3 Bedroom       500.0   3.0  100.0    3   \n\n    price_per_sqft  \n9     36274.509804  \n45    33333.333333  \n58    10660.980810  \n68     6296.296296  \n70    20000.000000  ",
            "text/html": "<div>\n<style scoped>\n    .dataframe tbody tr th:only-of-type {\n        vertical-align: middle;\n    }\n\n    .dataframe tbody tr th {\n        vertical-align: top;\n    }\n\n    .dataframe thead th {\n        text-align: right;\n    }\n</style>\n<table border=\"1\" class=\"dataframe\">\n  <thead>\n    <tr style=\"text-align: right;\">\n      <th></th>\n      <th>location</th>\n      <th>size</th>\n      <th>total_sqft</th>\n      <th>bath</th>\n      <th>price</th>\n      <th>bhk</th>\n      <th>price_per_sqft</th>\n    </tr>\n  </thead>\n  <tbody>\n    <tr>\n      <th>9</th>\n      <td>other</td>\n      <td>6 Bedroom</td>\n      <td>1020.0</td>\n      <td>6.0</td>\n      <td>370.0</td>\n      <td>6</td>\n      <td>36274.509804</td>\n    </tr>\n    <tr>\n      <th>45</th>\n      <td>HSR Layout</td>\n      <td>8 Bedroom</td>\n      <td>600.0</td>\n      <td>9.0</td>\n      <td>200.0</td>\n      <td>8</td>\n      <td>33333.333333</td>\n    </tr>\n    <tr>\n      <th>58</th>\n      <td>Murugeshpalya</td>\n      <td>6 Bedroom</td>\n      <td>1407.0</td>\n      <td>4.0</td>\n      <td>150.0</td>\n      <td>6</td>\n      <td>10660.980810</td>\n    </tr>\n    <tr>\n      <th>68</th>\n      <td>Devarachikkanahalli</td>\n      <td>8 Bedroom</td>\n      <td>1350.0</td>\n      <td>7.0</td>\n      <td>85.0</td>\n      <td>8</td>\n      <td>6296.296296</td>\n    </tr>\n    <tr>\n      <th>70</th>\n      <td>other</td>\n      <td>3 Bedroom</td>\n      <td>500.0</td>\n      <td>3.0</td>\n      <td>100.0</td>\n      <td>3</td>\n      <td>20000.000000</td>\n    </tr>\n  </tbody>\n</table>\n</div>"
          },
          "metadata": {}
        }
      ],
      "execution_count": 54
    },
    {
      "cell_type": "code",
      "source": "df5.shape",
      "metadata": {
        "trusted": true
      },
      "outputs": [
        {
          "execution_count": 55,
          "output_type": "execute_result",
          "data": {
            "text/plain": "(13246, 7)"
          },
          "metadata": {}
        }
      ],
      "execution_count": 55
    },
    {
      "cell_type": "code",
      "source": "df6=df5[~(df5.total_sqft/df5.bhk<300)]\ndf6.shape",
      "metadata": {
        "trusted": true
      },
      "outputs": [
        {
          "execution_count": 56,
          "output_type": "execute_result",
          "data": {
            "text/plain": "(12502, 7)"
          },
          "metadata": {}
        }
      ],
      "execution_count": 56
    },
    {
      "cell_type": "code",
      "source": "df6.price_per_sqft.describe()",
      "metadata": {
        "trusted": true
      },
      "outputs": [
        {
          "execution_count": 57,
          "output_type": "execute_result",
          "data": {
            "text/plain": "count     12456.000000\nmean       6308.502826\nstd        4168.127339\nmin         267.829813\n25%        4210.526316\n50%        5294.117647\n75%        6916.666667\nmax      176470.588235\nName: price_per_sqft, dtype: float64"
          },
          "metadata": {}
        }
      ],
      "execution_count": 57
    },
    {
      "cell_type": "code",
      "source": "def remove_pps_outliers(df):\n    df_out=pd.DataFrame()\n    for key,subdf in df.groupby('location'):\n        m=np.mean(subdf.price_per_sqft)\n        st=np.std(subdf.price_per_sqft)\n        reduced_df=subdf[(subdf.price_per_sqft>(m-st))& (subdf.price_per_sqft<=(m+st))]\n        df_out=pd.concat([df_out,reduced_df],ignore_index=True)\n    return df_out",
      "metadata": {
        "trusted": true
      },
      "outputs": [],
      "execution_count": 66
    },
    {
      "cell_type": "code",
      "source": "df7=remove_pps_outliers(df6)\ndf7.shape",
      "metadata": {
        "trusted": true
      },
      "outputs": [
        {
          "execution_count": 67,
          "output_type": "execute_result",
          "data": {
            "text/plain": "(10241, 7)"
          },
          "metadata": {}
        }
      ],
      "execution_count": 67
    },
    {
      "cell_type": "code",
      "source": "def plot_scatter_chart(df,location):\n    bhk2 = df[(df.location==location) & (df.bhk==2)]\n    bhk3 = df[(df.location==location) & (df.bhk==3)]\n    matplotlib.rcParams['figure.figsize'] = (15,10)\n    plt.scatter(bhk2.total_sqft,bhk2.price,color='blue',label='2 BHK', s=50)\n    plt.scatter(bhk3.total_sqft,bhk3.price,marker='+', color='green',label='3 BHK', s=50)\n    plt.xlabel(\"Total Square Feet Area\")\n    plt.ylabel(\"Price (Lakh Indian Rupees)\")\n    plt.title(location)\n    plt.legend()\n\nplot_scatter_chart(df7,\"Rajaji Nagar\")\n",
      "metadata": {
        "trusted": true
      },
      "outputs": [
        {
          "output_type": "display_data",
          "data": {
            "text/plain": "<Figure size 1500x1000 with 1 Axes>",
            "image/png": "[encoded data removed]"
          },
          "metadata": {}
        }
      ],
      "execution_count": 73
    },
    {
      "cell_type": "code",
      "source": "def remove_bhk_outliers(df):\n    exclude_indices = np.array([])\n    for location, location_df in df.groupby('location'):\n        bhk_stats = {}\n        for bhk, bhk_df in location_df.groupby('bhk'):\n            bhk_stats[bhk] = {\n                'mean': np.mean(bhk_df.price_per_sqft),\n                'std': np.std(bhk_df.price_per_sqft),\n                'count': bhk_df.shape[0]\n            }\n        for bhk, bhk_df in location_df.groupby('bhk'):\n            stats = bhk_stats.get(bhk-1)\n            if stats and stats['count']>5:\n                exclude_indices = np.append(exclude_indices, bhk_df[bhk_df.price_per_sqft<(stats['mean'])].index.values)\n    return df.drop(exclude_indices,axis='index')\ndf8 = remove_bhk_outliers(df7)\ndf8.shape",
      "metadata": {
        "trusted": true
      },
      "outputs": [
        {
          "execution_count": 79,
          "output_type": "execute_result",
          "data": {
            "text/plain": "(7329, 7)"
          },
          "metadata": {}
        }
      ],
      "execution_count": 79
    },
    {
      "cell_type": "code",
      "source": "plot_scatter_chart(df8,\"Hebbal\")",
      "metadata": {
        "trusted": true
      },
      "outputs": [
        {
          "output_type": "display_data",
          "data": {
            "text/plain": "<Figure size 1500x1000 with 1 Axes>",
            "image/png": "[encoded data removed]"
          },
          "metadata": {}
        }
      ],
      "execution_count": 81
    },
    {
      "cell_type": "code",
      "source": "import matplotlib\nmatplotlib.rcParams[\"figure.figsize\"] = (20,10)\nplt.hist(df8.price_per_sqft,rwidth=0.8)\nplt.xlabel(\"Price Per Square Feet\")\nplt.ylabel(\"Count\")",
      "metadata": {
        "trusted": true
      },
      "outputs": [
        {
          "execution_count": 83,
          "output_type": "execute_result",
          "data": {
            "text/plain": "Text(0, 0.5, 'Count')"
          },
          "metadata": {}
        },
        {
          "output_type": "display_data",
          "data": {
            "text/plain": "<Figure size 2000x1000 with 1 Axes>",
            "image/png": "[encoded data removed]"
          },
          "metadata": {}
        }
      ],
      "execution_count": 83
    },
    {
      "cell_type": "code",
      "source": "df8.bath.unique()",
      "metadata": {
        "trusted": true
      },
      "outputs": [
        {
          "execution_count": 84,
          "output_type": "execute_result",
          "data": {
            "text/plain": "array([ 4.,  3.,  2.,  5.,  8.,  1.,  6.,  7.,  9., 12., 16., 13.])"
          },
          "metadata": {}
        }
      ],
      "execution_count": 84
    },
    {
      "cell_type": "code",
      "source": "df8[df8.bath>10]",
      "metadata": {
        "trusted": true
      },
      "outputs": [
        {
          "execution_count": 85,
          "output_type": "execute_result",
          "data": {
            "text/plain": "            location    size  total_sqft  bath  price  bhk  price_per_sqft\n5277  Neeladri Nagar  10 BHK      4000.0  12.0  160.0   10     4000.000000\n8486           other  10 BHK     12000.0  12.0  525.0   10     4375.000000\n8575           other  16 BHK     10000.0  16.0  550.0   16     5500.000000\n9308           other  11 BHK      6000.0  12.0  150.0   11     2500.000000\n9639           other  13 BHK      5425.0  13.0  275.0   13     5069.124424",
            "text/html": "<div>\n<style scoped>\n    .dataframe tbody tr th:only-of-type {\n        vertical-align: middle;\n    }\n\n    .dataframe tbody tr th {\n        vertical-align: top;\n    }\n\n    .dataframe thead th {\n        text-align: right;\n    }\n</style>\n<table border=\"1\" class=\"dataframe\">\n  <thead>\n    <tr style=\"text-align: right;\">\n      <th></th>\n      <th>location</th>\n      <th>size</th>\n      <th>total_sqft</th>\n      <th>bath</th>\n      <th>price</th>\n      <th>bhk</th>\n      <th>price_per_sqft</th>\n    </tr>\n  </thead>\n  <tbody>\n    <tr>\n      <th>5277</th>\n      <td>Neeladri Nagar</td>\n      <td>10 BHK</td>\n      <td>4000.0</td>\n      <td>12.0</td>\n      <td>160.0</td>\n      <td>10</td>\n      <td>4000.000000</td>\n    </tr>\n    <tr>\n      <th>8486</th>\n      <td>other</td>\n      <td>10 BHK</td>\n      <td>12000.0</td>\n      <td>12.0</td>\n      <td>525.0</td>\n      <td>10</td>\n      <td>4375.000000</td>\n    </tr>\n    <tr>\n      <th>8575</th>\n      <td>other</td>\n      <td>16 BHK</td>\n      <td>10000.0</td>\n      <td>16.0</td>\n      <td>550.0</td>\n      <td>16</td>\n      <td>5500.000000</td>\n    </tr>\n    <tr>\n      <th>9308</th>\n      <td>other</td>\n      <td>11 BHK</td>\n      <td>6000.0</td>\n      <td>12.0</td>\n      <td>150.0</td>\n      <td>11</td>\n      <td>2500.000000</td>\n    </tr>\n    <tr>\n      <th>9639</th>\n      <td>other</td>\n      <td>13 BHK</td>\n      <td>5425.0</td>\n      <td>13.0</td>\n      <td>275.0</td>\n      <td>13</td>\n      <td>5069.124424</td>\n    </tr>\n  </tbody>\n</table>\n</div>"
          },
          "metadata": {}
        }
      ],
      "execution_count": 85
    },
    {
      "cell_type": "code",
      "source": "plt.hist(df8.bath,rwidth=0.8)\nplt.xlabel(\"number of bathrooms\")\nplt.ylabel(\"count\")",
      "metadata": {
        "trusted": true
      },
      "outputs": [
        {
          "execution_count": 86,
          "output_type": "execute_result",
          "data": {
            "text/plain": "Text(0, 0.5, 'count')"
          },
          "metadata": {}
        },
        {
          "output_type": "display_data",
          "data": {
            "text/plain": "<Figure size 2000x1000 with 1 Axes>",
            "image/png": "[encoded data removed]"
          },
          "metadata": {}
        }
      ],
      "execution_count": 86
    },
    {
      "cell_type": "code",
      "source": "df8[df8.bath>df8.bhk+2]",
      "metadata": {
        "trusted": true
      },
      "outputs": [
        {
          "execution_count": 88,
          "output_type": "execute_result",
          "data": {
            "text/plain": "           location       size  total_sqft  bath   price  bhk  price_per_sqft\n1626  Chikkabanavar  4 Bedroom      2460.0   7.0    80.0    4     3252.032520\n5238     Nagasandra  4 Bedroom      7000.0   8.0   450.0    4     6428.571429\n6711    Thanisandra      3 BHK      1806.0   6.0   116.0    3     6423.034330\n8411          other      6 BHK     11338.0   9.0  1000.0    6     8819.897689",
            "text/html": "<div>\n<style scoped>\n    .dataframe tbody tr th:only-of-type {\n        vertical-align: middle;\n    }\n\n    .dataframe tbody tr th {\n        vertical-align: top;\n    }\n\n    .dataframe thead th {\n        text-align: right;\n    }\n</style>\n<table border=\"1\" class=\"dataframe\">\n  <thead>\n    <tr style=\"text-align: right;\">\n      <th></th>\n      <th>location</th>\n      <th>size</th>\n      <th>total_sqft</th>\n      <th>bath</th>\n      <th>price</th>\n      <th>bhk</th>\n      <th>price_per_sqft</th>\n    </tr>\n  </thead>\n  <tbody>\n    <tr>\n      <th>1626</th>\n      <td>Chikkabanavar</td>\n      <td>4 Bedroom</td>\n      <td>2460.0</td>\n      <td>7.0</td>\n      <td>80.0</td>\n      <td>4</td>\n      <td>3252.032520</td>\n    </tr>\n    <tr>\n      <th>5238</th>\n      <td>Nagasandra</td>\n      <td>4 Bedroom</td>\n      <td>7000.0</td>\n      <td>8.0</td>\n      <td>450.0</td>\n      <td>4</td>\n      <td>6428.571429</td>\n    </tr>\n    <tr>\n      <th>6711</th>\n      <td>Thanisandra</td>\n      <td>3 BHK</td>\n      <td>1806.0</td>\n      <td>6.0</td>\n      <td>116.0</td>\n      <td>3</td>\n      <td>6423.034330</td>\n    </tr>\n    <tr>\n      <th>8411</th>\n      <td>other</td>\n      <td>6 BHK</td>\n      <td>11338.0</td>\n      <td>9.0</td>\n      <td>1000.0</td>\n      <td>6</td>\n      <td>8819.897689</td>\n    </tr>\n  </tbody>\n</table>\n</div>"
          },
          "metadata": {}
        }
      ],
      "execution_count": 88
    },
    {
      "cell_type": "code",
      "source": "df9=df8[df8.bath<df8.bhk+2]\ndf9.shape",
      "metadata": {
        "trusted": true
      },
      "outputs": [
        {
          "execution_count": 89,
          "output_type": "execute_result",
          "data": {
            "text/plain": "(7251, 7)"
          },
          "metadata": {}
        }
      ],
      "execution_count": 89
    },
    {
      "cell_type": "code",
      "source": "df10=df9.drop(['size','price_per_sqft'],axis='columns')\ndf10.head(3)",
      "metadata": {
        "trusted": true
      },
      "outputs": [
        {
          "execution_count": 91,
          "output_type": "execute_result",
          "data": {
            "text/plain": "              location  total_sqft  bath  price  bhk\n0  1st Block Jayanagar      2850.0   4.0  428.0    4\n1  1st Block Jayanagar      1630.0   3.0  194.0    3\n2  1st Block Jayanagar      1875.0   2.0  235.0    3",
            "text/html": "<div>\n<style scoped>\n    .dataframe tbody tr th:only-of-type {\n        vertical-align: middle;\n    }\n\n    .dataframe tbody tr th {\n        vertical-align: top;\n    }\n\n    .dataframe thead th {\n        text-align: right;\n    }\n</style>\n<table border=\"1\" class=\"dataframe\">\n  <thead>\n    <tr style=\"text-align: right;\">\n      <th></th>\n      <th>location</th>\n      <th>total_sqft</th>\n      <th>bath</th>\n      <th>price</th>\n      <th>bhk</th>\n    </tr>\n  </thead>\n  <tbody>\n    <tr>\n      <th>0</th>\n      <td>1st Block Jayanagar</td>\n      <td>2850.0</td>\n      <td>4.0</td>\n      <td>428.0</td>\n      <td>4</td>\n    </tr>\n    <tr>\n      <th>1</th>\n      <td>1st Block Jayanagar</td>\n      <td>1630.0</td>\n      <td>3.0</td>\n      <td>194.0</td>\n      <td>3</td>\n    </tr>\n    <tr>\n      <th>2</th>\n      <td>1st Block Jayanagar</td>\n      <td>1875.0</td>\n      <td>2.0</td>\n      <td>235.0</td>\n      <td>3</td>\n    </tr>\n  </tbody>\n</table>\n</div>"
          },
          "metadata": {}
        }
      ],
      "execution_count": 91
    },
    {
      "cell_type": "code",
      "source": "dummies=pd.get_dummies(df10.location)\ndummies.head(3)",
      "metadata": {
        "trusted": true
      },
      "outputs": [
        {
          "execution_count": 93,
          "output_type": "execute_result",
          "data": {
            "text/plain": "   1st Block Jayanagar  1st Phase JP Nagar  2nd Phase Judicial Layout  \\\n0                    1                   0                          0   \n1                    1                   0                          0   \n2                    1                   0                          0   \n\n   2nd Stage Nagarbhavi  5th Block Hbr Layout  5th Phase JP Nagar  \\\n0                     0                     0                   0   \n1                     0                     0                   0   \n2                     0                     0                   0   \n\n   6th Phase JP Nagar  7th Phase JP Nagar  8th Phase JP Nagar  \\\n0                   0                   0                   0   \n1                   0                   0                   0   \n2                   0                   0                   0   \n\n   9th Phase JP Nagar  ...  Vishveshwarya Layout  Vishwapriya Layout  \\\n0                   0  ...                     0                   0   \n1                   0  ...                     0                   0   \n2                   0  ...                     0                   0   \n\n   Vittasandra  Whitefield  Yelachenahalli  Yelahanka  Yelahanka New Town  \\\n0            0           0               0          0                   0   \n1            0           0               0          0                   0   \n2            0           0               0          0                   0   \n\n   Yelenahalli  Yeshwanthpur  other  \n0            0             0      0  \n1            0             0      0  \n2            0             0      0  \n\n[3 rows x 242 columns]",
            "text/html": "<div>\n<style scoped>\n    .dataframe tbody tr th:only-of-type {\n        vertical-align: middle;\n    }\n\n    .dataframe tbody tr th {\n        vertical-align: top;\n    }\n\n    .dataframe thead th {\n        text-align: right;\n    }\n</style>\n<table border=\"1\" class=\"dataframe\">\n  <thead>\n    <tr style=\"text-align: right;\">\n      <th></th>\n      <th>1st Block Jayanagar</th>\n      <th>1st Phase JP Nagar</th>\n      <th>2nd Phase Judicial Layout</th>\n      <th>2nd Stage Nagarbhavi</th>\n      <th>5th Block Hbr Layout</th>\n      <th>5th Phase JP Nagar</th>\n      <th>6th Phase JP Nagar</th>\n      <th>7th Phase JP Nagar</th>\n      <th>8th Phase JP Nagar</th>\n      <th>9th Phase JP Nagar</th>\n      <th>...</th>\n      <th>Vishveshwarya Layout</th>\n      <th>Vishwapriya Layout</th>\n      <th>Vittasandra</th>\n      <th>Whitefield</th>\n      <th>Yelachenahalli</th>\n      <th>Yelahanka</th>\n      <th>Yelahanka New Town</th>\n      <th>Yelenahalli</th>\n      <th>Yeshwanthpur</th>\n      <th>other</th>\n    </tr>\n  </thead>\n  <tbody>\n    <tr>\n      <th>0</th>\n      <td>1</td>\n      <td>0</td>\n      <td>0</td>\n      <td>0</td>\n      <td>0</td>\n      <td>0</td>\n      <td>0</td>\n      <td>0</td>\n      <td>0</td>\n      <td>0</td>\n      <td>...</td>\n      <td>0</td>\n      <td>0</td>\n      <td>0</td>\n      <td>0</td>\n      <td>0</td>\n      <td>0</td>\n      <td>0</td>\n      <td>0</td>\n      <td>0</td>\n      <td>0</td>\n    </tr>\n    <tr>\n      <th>1</th>\n      <td>1</td>\n      <td>0</td>\n      <td>0</td>\n      <td>0</td>\n      <td>0</td>\n      <td>0</td>\n      <td>0</td>\n      <td>0</td>\n      <td>0</td>\n      <td>0</td>\n      <td>...</td>\n      <td>0</td>\n      <td>0</td>\n      <td>0</td>\n      <td>0</td>\n      <td>0</td>\n      <td>0</td>\n      <td>0</td>\n      <td>0</td>\n      <td>0</td>\n      <td>0</td>\n    </tr>\n    <tr>\n      <th>2</th>\n      <td>1</td>\n      <td>0</td>\n      <td>0</td>\n      <td>0</td>\n      <td>0</td>\n      <td>0</td>\n      <td>0</td>\n      <td>0</td>\n      <td>0</td>\n      <td>0</td>\n      <td>...</td>\n      <td>0</td>\n      <td>0</td>\n      <td>0</td>\n      <td>0</td>\n      <td>0</td>\n      <td>0</td>\n      <td>0</td>\n      <td>0</td>\n      <td>0</td>\n      <td>0</td>\n    </tr>\n  </tbody>\n</table>\n<p>3 rows × 242 columns</p>\n</div>"
          },
          "metadata": {}
        }
      ],
      "execution_count": 93
    },
    {
      "cell_type": "code",
      "source": "df11=pd.concat([df10,dummies.drop('other',axis='columns')],axis='columns')\ndf11.head(3)",
      "metadata": {
        "trusted": true
      },
      "outputs": [
        {
          "execution_count": 94,
          "output_type": "execute_result",
          "data": {
            "text/plain": "              location  total_sqft  bath  price  bhk  1st Block Jayanagar  \\\n0  1st Block Jayanagar      2850.0   4.0  428.0    4                    1   \n1  1st Block Jayanagar      1630.0   3.0  194.0    3                    1   \n2  1st Block Jayanagar      1875.0   2.0  235.0    3                    1   \n\n   1st Phase JP Nagar  2nd Phase Judicial Layout  2nd Stage Nagarbhavi  \\\n0                   0                          0                     0   \n1                   0                          0                     0   \n2                   0                          0                     0   \n\n   5th Block Hbr Layout  ...  Vijayanagar  Vishveshwarya Layout  \\\n0                     0  ...            0                     0   \n1                     0  ...            0                     0   \n2                     0  ...            0                     0   \n\n   Vishwapriya Layout  Vittasandra  Whitefield  Yelachenahalli  Yelahanka  \\\n0                   0            0           0               0          0   \n1                   0            0           0               0          0   \n2                   0            0           0               0          0   \n\n   Yelahanka New Town  Yelenahalli  Yeshwanthpur  \n0                   0            0             0  \n1                   0            0             0  \n2                   0            0             0  \n\n[3 rows x 246 columns]",
            "text/html": "<div>\n<style scoped>\n    .dataframe tbody tr th:only-of-type {\n        vertical-align: middle;\n    }\n\n    .dataframe tbody tr th {\n        vertical-align: top;\n    }\n\n    .dataframe thead th {\n        text-align: right;\n    }\n</style>\n<table border=\"1\" class=\"dataframe\">\n  <thead>\n    <tr style=\"text-align: right;\">\n      <th></th>\n      <th>location</th>\n      <th>total_sqft</th>\n      <th>bath</th>\n      <th>price</th>\n      <th>bhk</th>\n      <th>1st Block Jayanagar</th>\n      <th>1st Phase JP Nagar</th>\n      <th>2nd Phase Judicial Layout</th>\n      <th>2nd Stage Nagarbhavi</th>\n      <th>5th Block Hbr Layout</th>\n      <th>...</th>\n      <th>Vijayanagar</th>\n      <th>Vishveshwarya Layout</th>\n      <th>Vishwapriya Layout</th>\n      <th>Vittasandra</th>\n      <th>Whitefield</th>\n      <th>Yelachenahalli</th>\n      <th>Yelahanka</th>\n      <th>Yelahanka New Town</th>\n      <th>Yelenahalli</th>\n      <th>Yeshwanthpur</th>\n    </tr>\n  </thead>\n  <tbody>\n    <tr>\n      <th>0</th>\n      <td>1st Block Jayanagar</td>\n      <td>2850.0</td>\n      <td>4.0</td>\n      <td>428.0</td>\n      <td>4</td>\n      <td>1</td>\n      <td>0</td>\n      <td>0</td>\n      <td>0</td>\n      <td>0</td>\n      <td>...</td>\n      <td>0</td>\n      <td>0</td>\n      <td>0</td>\n      <td>0</td>\n      <td>0</td>\n      <td>0</td>\n      <td>0</td>\n      <td>0</td>\n      <td>0</td>\n      <td>0</td>\n    </tr>\n    <tr>\n      <th>1</th>\n      <td>1st Block Jayanagar</td>\n      <td>1630.0</td>\n      <td>3.0</td>\n      <td>194.0</td>\n      <td>3</td>\n      <td>1</td>\n      <td>0</td>\n      <td>0</td>\n      <td>0</td>\n      <td>0</td>\n      <td>...</td>\n      <td>0</td>\n      <td>0</td>\n      <td>0</td>\n      <td>0</td>\n      <td>0</td>\n      <td>0</td>\n      <td>0</td>\n      <td>0</td>\n      <td>0</td>\n      <td>0</td>\n    </tr>\n    <tr>\n      <th>2</th>\n      <td>1st Block Jayanagar</td>\n      <td>1875.0</td>\n      <td>2.0</td>\n      <td>235.0</td>\n      <td>3</td>\n      <td>1</td>\n      <td>0</td>\n      <td>0</td>\n      <td>0</td>\n      <td>0</td>\n      <td>...</td>\n      <td>0</td>\n      <td>0</td>\n      <td>0</td>\n      <td>0</td>\n      <td>0</td>\n      <td>0</td>\n      <td>0</td>\n      <td>0</td>\n      <td>0</td>\n      <td>0</td>\n    </tr>\n  </tbody>\n</table>\n<p>3 rows × 246 columns</p>\n</div>"
          },
          "metadata": {}
        }
      ],
      "execution_count": 94
    },
    {
      "cell_type": "code",
      "source": "df12=df11.drop('location',axis='columns')\ndf12.head(2)",
      "metadata": {
        "trusted": true
      },
      "outputs": [
        {
          "execution_count": 96,
          "output_type": "execute_result",
          "data": {
            "text/plain": "   total_sqft  bath  price  bhk  1st Block Jayanagar  1st Phase JP Nagar  \\\n0      2850.0   4.0  428.0    4                    1                   0   \n1      1630.0   3.0  194.0    3                    1                   0   \n\n   2nd Phase Judicial Layout  2nd Stage Nagarbhavi  5th Block Hbr Layout  \\\n0                          0                     0                     0   \n1                          0                     0                     0   \n\n   5th Phase JP Nagar  ...  Vijayanagar  Vishveshwarya Layout  \\\n0                   0  ...            0                     0   \n1                   0  ...            0                     0   \n\n   Vishwapriya Layout  Vittasandra  Whitefield  Yelachenahalli  Yelahanka  \\\n0                   0            0           0               0          0   \n1                   0            0           0               0          0   \n\n   Yelahanka New Town  Yelenahalli  Yeshwanthpur  \n0                   0            0             0  \n1                   0            0             0  \n\n[2 rows x 245 columns]",
            "text/html": "<div>\n<style scoped>\n    .dataframe tbody tr th:only-of-type {\n        vertical-align: middle;\n    }\n\n    .dataframe tbody tr th {\n        vertical-align: top;\n    }\n\n    .dataframe thead th {\n        text-align: right;\n    }\n</style>\n<table border=\"1\" class=\"dataframe\">\n  <thead>\n    <tr style=\"text-align: right;\">\n      <th></th>\n      <th>total_sqft</th>\n      <th>bath</th>\n      <th>price</th>\n      <th>bhk</th>\n      <th>1st Block Jayanagar</th>\n      <th>1st Phase JP Nagar</th>\n      <th>2nd Phase Judicial Layout</th>\n      <th>2nd Stage Nagarbhavi</th>\n      <th>5th Block Hbr Layout</th>\n      <th>5th Phase JP Nagar</th>\n      <th>...</th>\n      <th>Vijayanagar</th>\n      <th>Vishveshwarya Layout</th>\n      <th>Vishwapriya Layout</th>\n      <th>Vittasandra</th>\n      <th>Whitefield</th>\n      <th>Yelachenahalli</th>\n      <th>Yelahanka</th>\n      <th>Yelahanka New Town</th>\n      <th>Yelenahalli</th>\n      <th>Yeshwanthpur</th>\n    </tr>\n  </thead>\n  <tbody>\n    <tr>\n      <th>0</th>\n      <td>2850.0</td>\n      <td>4.0</td>\n      <td>428.0</td>\n      <td>4</td>\n      <td>1</td>\n      <td>0</td>\n      <td>0</td>\n      <td>0</td>\n      <td>0</td>\n      <td>0</td>\n      <td>...</td>\n      <td>0</td>\n      <td>0</td>\n      <td>0</td>\n      <td>0</td>\n      <td>0</td>\n      <td>0</td>\n      <td>0</td>\n      <td>0</td>\n      <td>0</td>\n      <td>0</td>\n    </tr>\n    <tr>\n      <th>1</th>\n      <td>1630.0</td>\n      <td>3.0</td>\n      <td>194.0</td>\n      <td>3</td>\n      <td>1</td>\n      <td>0</td>\n      <td>0</td>\n      <td>0</td>\n      <td>0</td>\n      <td>0</td>\n      <td>...</td>\n      <td>0</td>\n      <td>0</td>\n      <td>0</td>\n      <td>0</td>\n      <td>0</td>\n      <td>0</td>\n      <td>0</td>\n      <td>0</td>\n      <td>0</td>\n      <td>0</td>\n    </tr>\n  </tbody>\n</table>\n<p>2 rows × 245 columns</p>\n</div>"
          },
          "metadata": {}
        }
      ],
      "execution_count": 96
    },
    {
      "cell_type": "code",
      "source": "df12.shape",
      "metadata": {
        "trusted": true
      },
      "outputs": [
        {
          "execution_count": 97,
          "output_type": "execute_result",
          "data": {
            "text/plain": "(7251, 245)"
          },
          "metadata": {}
        }
      ],
      "execution_count": 97
    },
    {
      "cell_type": "code",
      "source": "x=df12.drop('price',axis='columns')\nx.head()",
      "metadata": {
        "trusted": true
      },
      "outputs": [
        {
          "execution_count": 98,
          "output_type": "execute_result",
          "data": {
            "text/plain": "   total_sqft  bath  bhk  1st Block Jayanagar  1st Phase JP Nagar  \\\n0      2850.0   4.0    4                    1                   0   \n1      1630.0   3.0    3                    1                   0   \n2      1875.0   2.0    3                    1                   0   \n3      1200.0   2.0    3                    1                   0   \n4      1235.0   2.0    2                    1                   0   \n\n   2nd Phase Judicial Layout  2nd Stage Nagarbhavi  5th Block Hbr Layout  \\\n0                          0                     0                     0   \n1                          0                     0                     0   \n2                          0                     0                     0   \n3                          0                     0                     0   \n4                          0                     0                     0   \n\n   5th Phase JP Nagar  6th Phase JP Nagar  ...  Vijayanagar  \\\n0                   0                   0  ...            0   \n1                   0                   0  ...            0   \n2                   0                   0  ...            0   \n3                   0                   0  ...            0   \n4                   0                   0  ...            0   \n\n   Vishveshwarya Layout  Vishwapriya Layout  Vittasandra  Whitefield  \\\n0                     0                   0            0           0   \n1                     0                   0            0           0   \n2                     0                   0            0           0   \n3                     0                   0            0           0   \n4                     0                   0            0           0   \n\n   Yelachenahalli  Yelahanka  Yelahanka New Town  Yelenahalli  Yeshwanthpur  \n0               0          0                   0            0             0  \n1               0          0                   0            0             0  \n2               0          0                   0            0             0  \n3               0          0                   0            0             0  \n4               0          0                   0            0             0  \n\n[5 rows x 244 columns]",
            "text/html": "<div>\n<style scoped>\n    .dataframe tbody tr th:only-of-type {\n        vertical-align: middle;\n    }\n\n    .dataframe tbody tr th {\n        vertical-align: top;\n    }\n\n    .dataframe thead th {\n        text-align: right;\n    }\n</style>\n<table border=\"1\" class=\"dataframe\">\n  <thead>\n    <tr style=\"text-align: right;\">\n      <th></th>\n      <th>total_sqft</th>\n      <th>bath</th>\n      <th>bhk</th>\n      <th>1st Block Jayanagar</th>\n      <th>1st Phase JP Nagar</th>\n      <th>2nd Phase Judicial Layout</th>\n      <th>2nd Stage Nagarbhavi</th>\n      <th>5th Block Hbr Layout</th>\n      <th>5th Phase JP Nagar</th>\n      <th>6th Phase JP Nagar</th>\n      <th>...</th>\n      <th>Vijayanagar</th>\n      <th>Vishveshwarya Layout</th>\n      <th>Vishwapriya Layout</th>\n      <th>Vittasandra</th>\n      <th>Whitefield</th>\n      <th>Yelachenahalli</th>\n      <th>Yelahanka</th>\n      <th>Yelahanka New Town</th>\n      <th>Yelenahalli</th>\n      <th>Yeshwanthpur</th>\n    </tr>\n  </thead>\n  <tbody>\n    <tr>\n      <th>0</th>\n      <td>2850.0</td>\n      <td>4.0</td>\n      <td>4</td>\n      <td>1</td>\n      <td>0</td>\n      <td>0</td>\n      <td>0</td>\n      <td>0</td>\n      <td>0</td>\n      <td>0</td>\n      <td>...</td>\n      <td>0</td>\n      <td>0</td>\n      <td>0</td>\n      <td>0</td>\n      <td>0</td>\n      <td>0</td>\n      <td>0</td>\n      <td>0</td>\n      <td>0</td>\n      <td>0</td>\n    </tr>\n    <tr>\n      <th>1</th>\n      <td>1630.0</td>\n      <td>3.0</td>\n      <td>3</td>\n      <td>1</td>\n      <td>0</td>\n      <td>0</td>\n      <td>0</td>\n      <td>0</td>\n      <td>0</td>\n      <td>0</td>\n      <td>...</td>\n      <td>0</td>\n      <td>0</td>\n      <td>0</td>\n      <td>0</td>\n      <td>0</td>\n      <td>0</td>\n      <td>0</td>\n      <td>0</td>\n      <td>0</td>\n      <td>0</td>\n    </tr>\n    <tr>\n      <th>2</th>\n      <td>1875.0</td>\n      <td>2.0</td>\n      <td>3</td>\n      <td>1</td>\n      <td>0</td>\n      <td>0</td>\n      <td>0</td>\n      <td>0</td>\n      <td>0</td>\n      <td>0</td>\n      <td>...</td>\n      <td>0</td>\n      <td>0</td>\n      <td>0</td>\n      <td>0</td>\n      <td>0</td>\n      <td>0</td>\n      <td>0</td>\n      <td>0</td>\n      <td>0</td>\n      <td>0</td>\n    </tr>\n    <tr>\n      <th>3</th>\n      <td>1200.0</td>\n      <td>2.0</td>\n      <td>3</td>\n      <td>1</td>\n      <td>0</td>\n      <td>0</td>\n      <td>0</td>\n      <td>0</td>\n      <td>0</td>\n      <td>0</td>\n      <td>...</td>\n      <td>0</td>\n      <td>0</td>\n      <td>0</td>\n      <td>0</td>\n      <td>0</td>\n      <td>0</td>\n      <td>0</td>\n      <td>0</td>\n      <td>0</td>\n      <td>0</td>\n    </tr>\n    <tr>\n      <th>4</th>\n      <td>1235.0</td>\n      <td>2.0</td>\n      <td>2</td>\n      <td>1</td>\n      <td>0</td>\n      <td>0</td>\n      <td>0</td>\n      <td>0</td>\n      <td>0</td>\n      <td>0</td>\n      <td>...</td>\n      <td>0</td>\n      <td>0</td>\n      <td>0</td>\n      <td>0</td>\n      <td>0</td>\n      <td>0</td>\n      <td>0</td>\n      <td>0</td>\n      <td>0</td>\n      <td>0</td>\n    </tr>\n  </tbody>\n</table>\n<p>5 rows × 244 columns</p>\n</div>"
          },
          "metadata": {}
        }
      ],
      "execution_count": 98
    },
    {
      "cell_type": "code",
      "source": "y=df12.price\ny.head()",
      "metadata": {
        "trusted": true
      },
      "outputs": [
        {
          "execution_count": 99,
          "output_type": "execute_result",
          "data": {
            "text/plain": "0    428.0\n1    194.0\n2    235.0\n3    130.0\n4    148.0\nName: price, dtype: float64"
          },
          "metadata": {}
        }
      ],
      "execution_count": 99
    },
    {
      "cell_type": "code",
      "source": "from sklearn.model_selection import train_test_split\nx_train,x_test,y_train,y_test=train_test_split(x,y,test_size=0.2,random_state=10)\n",
      "metadata": {
        "trusted": true
      },
      "outputs": [],
      "execution_count": 101
    },
    {
      "cell_type": "code",
      "source": "from sklearn.linear_model import LinearRegression\nlr_clf=LinearRegression()\nlr_clf.fit(x_train,y_train)\nlr_clf.score(x_test,y_test)",
      "metadata": {
        "trusted": true
      },
      "outputs": [
        {
          "execution_count": 104,
          "output_type": "execute_result",
          "data": {
            "text/plain": "0.845227769787436"
          },
          "metadata": {}
        }
      ],
      "execution_count": 104
    },
    {
      "cell_type": "code",
      "source": "from sklearn.model_selection import ShuffleSplit\nfrom sklearn.model_selection import cross_val_score\n\ncv=ShuffleSplit(n_splits=5,test_size=0.2,random_state=0)\n\ncross_val_score(LinearRegression(),x,y,cv=cv)",
      "metadata": {
        "trusted": true
      },
      "outputs": [
        {
          "execution_count": 106,
          "output_type": "execute_result",
          "data": {
            "text/plain": "array([0.82430186, 0.77166234, 0.85089567, 0.80837764, 0.83653286])"
          },
          "metadata": {}
        }
      ],
      "execution_count": 106
    },
    {
      "cell_type": "code",
      "source": "import pandas as pd\nfrom sklearn.model_selection import GridSearchCV, ShuffleSplit\nfrom sklearn.linear_model import LinearRegression, Lasso\nfrom sklearn.tree import DecisionTreeRegressor\nfrom sklearn.preprocessing import StandardScaler\nfrom sklearn.pipeline import Pipeline\n\ndef find_best_model_using_gridsearchcv(x, y):\n    algos = {\n        'linear_regression': {\n            'model': Pipeline([\n                ('scaler', StandardScaler()), \n                ('regressor', LinearRegression())\n            ]),\n            'params': {\n                'regressor__fit_intercept': [True, False],\n                'scaler__with_mean': [True, False],\n                'scaler__with_std': [True, False]\n            }\n        },\n        'lasso': {\n            'model': Lasso(),\n            'params': {\n                'alpha': [1, 2],\n                'selection': ['random', 'cyclic']\n            }\n        },\n        'decision_tree': {\n            'model': DecisionTreeRegressor(),\n            'params': {\n                'criterion': ['squared_error', 'friedman_mse'],\n                'splitter': ['best', 'random']\n            }\n        }\n    }\n\n    scores = []\n    cv = ShuffleSplit(n_splits=5, test_size=0.2, random_state=0)\n    for algo_name, config in algos.items():\n        gs = GridSearchCV(config['model'], config['params'], cv=cv, return_train_score=False)\n        gs.fit(x, y)\n        scores.append({\n            'model': algo_name,\n            'best_score': gs.best_score_,\n            'best_params': gs.best_params_\n        })\n\n    return pd.DataFrame(scores, columns=['model', 'best_score', 'best_params'])\n\nfind_best_model_using_gridsearchcv(x, y)",
      "metadata": {
        "trusted": true
      },
      "outputs": [
        {
          "execution_count": 117,
          "output_type": "execute_result",
          "data": {
            "text/plain": "               model  best_score  \\\n0  linear_regression    0.819001   \n1              lasso    0.687437   \n2      decision_tree    0.728209   \n\n                                         best_params  \n0  {'regressor__fit_intercept': False, 'scaler__w...  \n1                {'alpha': 1, 'selection': 'random'}  \n2  {'criterion': 'squared_error', 'splitter': 'be...  ",
            "text/html": "<div>\n<style scoped>\n    .dataframe tbody tr th:only-of-type {\n        vertical-align: middle;\n    }\n\n    .dataframe tbody tr th {\n        vertical-align: top;\n    }\n\n    .dataframe thead th {\n        text-align: right;\n    }\n</style>\n<table border=\"1\" class=\"dataframe\">\n  <thead>\n    <tr style=\"text-align: right;\">\n      <th></th>\n      <th>model</th>\n      <th>best_score</th>\n      <th>best_params</th>\n    </tr>\n  </thead>\n  <tbody>\n    <tr>\n      <th>0</th>\n      <td>linear_regression</td>\n      <td>0.819001</td>\n      <td>{'regressor__fit_intercept': False, 'scaler__w...</td>\n    </tr>\n    <tr>\n      <th>1</th>\n      <td>lasso</td>\n      <td>0.687437</td>\n      <td>{'alpha': 1, 'selection': 'random'}</td>\n    </tr>\n    <tr>\n      <th>2</th>\n      <td>decision_tree</td>\n      <td>0.728209</td>\n      <td>{'criterion': 'squared_error', 'splitter': 'be...</td>\n    </tr>\n  </tbody>\n</table>\n</div>"
          },
          "metadata": {}
        }
      ],
      "execution_count": 117
    },
    {
      "cell_type": "code",
      "source": "def predict_price(location,sqft,bath,bhk,x,lr_clf):\n    loc_index=np.where(x.columns==location)[0][0]\n\n    x=np.zeros(len(x.columns))\n    x[0]=sqft\n    x[1]=bath\n    x[2]=bhk\n    if loc_index >=0:\n        x[loc_index]=1\n    return lr_clf.predict([x])[0]",
      "metadata": {
        "trusted": true
      },
      "outputs": [],
      "execution_count": 153
    },
    {
      "cell_type": "code",
      "source": "predict_price('1st Phase JP Nagar',1000,2,2,x,lr_clf)",
      "metadata": {
        "trusted": true
      },
      "outputs": [
        {
          "name": "stderr",
          "text": "/lib/python3.11/site-packages/sklearn/base.py:465: UserWarning: X does not have valid feature names, but LinearRegression was fitted with feature names\n  warnings.warn(\n",
          "output_type": "stream"
        },
        {
          "execution_count": 154,
          "output_type": "execute_result",
          "data": {
            "text/plain": "83.4990467719289"
          },
          "metadata": {}
        }
      ],
      "execution_count": 154
    },
    {
      "cell_type": "code",
      "source": "predict_price('1st Phase JP Nagar',1000, 3, 3,x,lr_clf)\n",
      "metadata": {
        "trusted": true
      },
      "outputs": [
        {
          "name": "stderr",
          "text": "/lib/python3.11/site-packages/sklearn/base.py:465: UserWarning: X does not have valid feature names, but LinearRegression was fitted with feature names\n  warnings.warn(\n",
          "output_type": "stream"
        },
        {
          "execution_count": 157,
          "output_type": "execute_result",
          "data": {
            "text/plain": "86.8051939521961"
          },
          "metadata": {}
        }
      ],
      "execution_count": 157
    },
    {
      "cell_type": "code",
      "source": "predict_price('Indira Nagar',1000,2,2,x,lr_clf)",
      "metadata": {
        "trusted": true
      },
      "outputs": [
        {
          "name": "stderr",
          "text": "/lib/python3.11/site-packages/sklearn/base.py:465: UserWarning: X does not have valid feature names, but LinearRegression was fitted with feature names\n  warnings.warn(\n",
          "output_type": "stream"
        },
        {
          "execution_count": 158,
          "output_type": "execute_result",
          "data": {
            "text/plain": "181.27815484006715"
          },
          "metadata": {}
        }
      ],
      "execution_count": 158
    },
    {
      "cell_type": "code",
      "source": "predict_price('Indira Nagar',1000,3,3,x,lr_clf)",
      "metadata": {
        "trusted": true
      },
      "outputs": [
        {
          "name": "stderr",
          "text": "/lib/python3.11/site-packages/sklearn/base.py:465: UserWarning: X does not have valid feature names, but LinearRegression was fitted with feature names\n  warnings.warn(\n",
          "output_type": "stream"
        },
        {
          "execution_count": 159,
          "output_type": "execute_result",
          "data": {
            "text/plain": "184.58430202033435"
          },
          "metadata": {}
        }
      ],
      "execution_count": 159
    },
    {
      "cell_type": "code",
      "source": "import pickle \nwith open('bangalore_home_prices_model.pickle','wb')as f:\n    pickle.dump(lr_clf,f)",
      "metadata": {
        "trusted": true
      },
      "outputs": [],
      "execution_count": 163
    },
    {
      "cell_type": "code",
      "source": "import json\ncolumns = {\n    'data_columns' : [col.lower() for col in x.columns]\n}\nwith open(\"columns.json\",\"w\") as f:\n    f.write(json.dumps(columns))",
      "metadata": {
        "trusted": true
      },
      "outputs": [],
      "execution_count": 165
    },
    {
      "cell_type": "code",
      "source": "",
      "metadata": {
        "trusted": true
      },
      "outputs": [],
      "execution_count": null
    }
  ]
}